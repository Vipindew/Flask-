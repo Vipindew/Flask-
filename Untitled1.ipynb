{
 "cells": [
  {
   "cell_type": "code",
   "execution_count": 28,
   "id": "3c2ce939",
   "metadata": {},
   "outputs": [],
   "source": [
    "\n",
    "import math\n",
    "import os\n",
    "import random\n",
    "import re\n",
    "import sys\n",
    "\n",
    "#\n",
    "# Complete the 'migratoryBirds' function below.\n",
    "#\n",
    "# The function is expected to return an INTEGER.\n",
    "# The function accepts INTEGER_ARRAY arr as parameter.\n",
    "#\n",
    "def migratoryBirds(arr):\n",
    "    count={}\n",
    "    for i in arr:\n",
    "        if i not in count.keys():\n",
    "            count[i]=1\n",
    "        else:\n",
    "            count[i]+=1\n",
    "    maxim=arr[0]\n",
    "    sort=sorted(count.keys())\n",
    "    for x in sort:\n",
    "        if(count[x]>count[maxim]):\n",
    "            maxim=x\n",
    "    return(count,maxim)\n",
    "    "
   ]
  },
  {
   "cell_type": "code",
   "execution_count": null,
   "id": "9cd4cdba",
   "metadata": {},
   "outputs": [],
   "source": []
  },
  {
   "cell_type": "code",
   "execution_count": 29,
   "id": "d1ac917d",
   "metadata": {},
   "outputs": [
    {
     "data": {
      "text/plain": [
       "({1: 1, 2: 3, 3: 1, 10: 1, 4: 1, 5: 2, 6: 3}, 2)"
      ]
     },
     "execution_count": 29,
     "metadata": {},
     "output_type": "execute_result"
    }
   ],
   "source": [
    "migratoryBirds([1,2,3,10,4,5,6,2,5,6,2,6])"
   ]
  },
  {
   "cell_type": "code",
   "execution_count": null,
   "id": "5385059d",
   "metadata": {},
   "outputs": [],
   "source": []
  }
 ],
 "metadata": {
  "kernelspec": {
   "display_name": "Python 3",
   "language": "python",
   "name": "python3"
  },
  "language_info": {
   "codemirror_mode": {
    "name": "ipython",
    "version": 3
   },
   "file_extension": ".py",
   "mimetype": "text/x-python",
   "name": "python",
   "nbconvert_exporter": "python",
   "pygments_lexer": "ipython3",
   "version": "3.8.8"
  }
 },
 "nbformat": 4,
 "nbformat_minor": 5
}
