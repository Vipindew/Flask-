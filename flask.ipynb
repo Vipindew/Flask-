{
 "cells": [
  {
   "cell_type": "code",
   "execution_count": 1,
   "id": "170c9195",
   "metadata": {},
   "outputs": [
    {
     "ename": "SyntaxError",
     "evalue": "invalid syntax (flask.py, line 3)",
     "output_type": "error",
     "traceback": [
      "Traceback \u001b[1;36m(most recent call last)\u001b[0m:\n",
      "  File \u001b[0;32m\"C:\\ProgramData\\Anaconda3\\lib\\site-packages\\IPython\\core\\interactiveshell.py\"\u001b[0m, line \u001b[0;32m3437\u001b[0m, in \u001b[0;35mrun_code\u001b[0m\n    exec(code_obj, self.user_global_ns, self.user_ns)\n",
      "\u001b[1;36m  File \u001b[1;32m\"<ipython-input-1-25e254629f0a>\"\u001b[1;36m, line \u001b[1;32m1\u001b[1;36m, in \u001b[1;35m<module>\u001b[1;36m\u001b[0m\n\u001b[1;33m    from flask import Flask,render_template,redirect,url_for,session\u001b[0m\n",
      "\u001b[1;36m  File \u001b[1;32m\"C:\\Users\\vipin\\Desktop\\Untitled Folder 2\\flask.py\"\u001b[1;36m, line \u001b[1;32m3\u001b[0m\n\u001b[1;33m    $pip install flask\u001b[0m\n\u001b[1;37m    ^\u001b[0m\n\u001b[1;31mSyntaxError\u001b[0m\u001b[1;31m:\u001b[0m invalid syntax\n"
     ]
    }
   ],
   "source": [
    "from flask import Flask,render_template,redirect,url_for,session  \n",
    "import datetime\n",
    "app = Flask(__name__)  \n",
    "\n",
    "days=[\"day 1 , day 2\"]\n",
    "  \n",
    "@app.route(\"/\", methods=[\"Post\",\"Get\"])  \n",
    "def message():  \n",
    "      if request.method == \"POST\":\n",
    "        user = request.form[\"nm\"]\n",
    "        return redirect(url_for(\"user\", usr=user))\n",
    "      else:\n",
    "        return render_template(\"log.html\")  \n",
    "\n",
    "@app.route(\"/<usr>\")\n",
    "def user(usr):\n",
    "\n",
    "    \n",
    "    return f\"<h1>{usr, datetime.datetime.now()}</h1>\"\n",
    "\n",
    "if __name__ == '__main__':  \n",
    "   app.run()  "
   ]
  },
  {
   "cell_type": "code",
   "execution_count": 6,
   "id": "d7ddcc7d",
   "metadata": {},
   "outputs": [
    {
     "name": "stdout",
     "output_type": "stream",
     "text": [
      " * Serving Flask app \"__main__\" (lazy loading)\n",
      " * Environment: production\n",
      "   WARNING: This is a development server. Do not use it in a production deployment.\n",
      "   Use a production WSGI server instead.\n",
      " * Debug mode: off\n"
     ]
    },
    {
     "name": "stderr",
     "output_type": "stream",
     "text": [
      " * Running on http://127.0.0.1:5000/ (Press CTRL+C to quit)\n",
      "127.0.0.1 - - [17/Sep/2021 16:53:35] \"\u001b[33mGET / HTTP/1.1\u001b[0m\" 404 -\n"
     ]
    }
   ],
   "source": []
  },
  {
   "cell_type": "code",
   "execution_count": null,
   "id": "da1df0be",
   "metadata": {},
   "outputs": [],
   "source": []
  }
 ],
 "metadata": {
  "kernelspec": {
   "display_name": "Python 3",
   "language": "python",
   "name": "python3"
  },
  "language_info": {
   "codemirror_mode": {
    "name": "ipython",
    "version": 3
   },
   "file_extension": ".py",
   "mimetype": "text/x-python",
   "name": "python",
   "nbconvert_exporter": "python",
   "pygments_lexer": "ipython3",
   "version": "3.8.8"
  }
 },
 "nbformat": 4,
 "nbformat_minor": 5
}
